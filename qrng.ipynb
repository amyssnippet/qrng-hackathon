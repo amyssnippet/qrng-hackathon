{
  "nbformat": 4,
  "nbformat_minor": 0,
  "metadata": {
    "colab": {
      "provenance": [],
      "authorship_tag": "ABX9TyM0xV+zoiXIJpkQmiOGhQ6Z",
      "include_colab_link": true
    },
    "kernelspec": {
      "name": "python3",
      "display_name": "Python 3"
    },
    "language_info": {
      "name": "python"
    }
  },
  "cells": [
    {
      "cell_type": "markdown",
      "metadata": {
        "id": "view-in-github",
        "colab_type": "text"
      },
      "source": [
        "<a href=\"https://colab.research.google.com/github/amyssnippet/qrng-hackathon/blob/main/qrng.ipynb\" target=\"_parent\"><img src=\"https://colab.research.google.com/assets/colab-badge.svg\" alt=\"Open In Colab\"/></a>"
      ]
    },
    {
      "cell_type": "code",
      "source": [
        "%matplotlib"
      ],
      "metadata": {
        "colab": {
          "base_uri": "https://localhost:8080/"
        },
        "id": "rr4AlvZZoFkQ",
        "outputId": "b29ba868-c22e-4bcf-c766-f68d25c3c4f8"
      },
      "execution_count": 1,
      "outputs": [
        {
          "output_type": "stream",
          "name": "stdout",
          "text": [
            "Using matplotlib backend: <object object at 0x7ef39b316f60>\n"
          ]
        }
      ]
    },
    {
      "cell_type": "code",
      "execution_count": 2,
      "metadata": {
        "colab": {
          "base_uri": "https://localhost:8080/"
        },
        "id": "oFFuOATblupH",
        "outputId": "0e686bbe-eb7a-44ff-d7f2-a4a66c29a901"
      },
      "outputs": [
        {
          "output_type": "stream",
          "name": "stdout",
          "text": [
            "Requirement already satisfied: qiskit in /usr/local/lib/python3.12/dist-packages (2.2.3)\n",
            "Requirement already satisfied: qiskit_aer in /usr/local/lib/python3.12/dist-packages (0.17.2)\n",
            "Requirement already satisfied: rustworkx>=0.15.0 in /usr/local/lib/python3.12/dist-packages (from qiskit) (0.17.1)\n",
            "Requirement already satisfied: numpy<3,>=1.17 in /usr/local/lib/python3.12/dist-packages (from qiskit) (2.0.2)\n",
            "Requirement already satisfied: scipy>=1.5 in /usr/local/lib/python3.12/dist-packages (from qiskit) (1.16.3)\n",
            "Requirement already satisfied: dill>=0.3 in /usr/local/lib/python3.12/dist-packages (from qiskit) (0.3.8)\n",
            "Requirement already satisfied: stevedore>=3.0.0 in /usr/local/lib/python3.12/dist-packages (from qiskit) (5.5.0)\n",
            "Requirement already satisfied: typing-extensions in /usr/local/lib/python3.12/dist-packages (from qiskit) (4.15.0)\n",
            "Requirement already satisfied: psutil>=5 in /usr/local/lib/python3.12/dist-packages (from qiskit_aer) (5.9.5)\n",
            "Requirement already satisfied: python-dateutil>=2.8.0 in /usr/local/lib/python3.12/dist-packages (from qiskit_aer) (2.9.0.post0)\n",
            "Requirement already satisfied: six>=1.5 in /usr/local/lib/python3.12/dist-packages (from python-dateutil>=2.8.0->qiskit_aer) (1.17.0)\n"
          ]
        }
      ],
      "source": [
        "!pip install qiskit qiskit_aer"
      ]
    },
    {
      "cell_type": "code",
      "source": [
        "from qiskit import QuantumRegister, ClassicalRegister, QuantumCircuit\n",
        "from qiskit_aer import AerSimulator\n",
        "from qiskit.visualization import plot_histogram\n",
        "import matplotlib.pyplot as plt"
      ],
      "metadata": {
        "id": "2HUwSdQpl0cP"
      },
      "execution_count": 3,
      "outputs": []
    },
    {
      "cell_type": "code",
      "source": [
        "n=4\n",
        "quantum_register=QuantumRegister(n)\n",
        "classical_register=ClassicalRegister(n)\n",
        "quantum_circuit=QuantumCircuit(quantum_register,classical_register)\n",
        "print(quantum_circuit.draw())"
      ],
      "metadata": {
        "colab": {
          "base_uri": "https://localhost:8080/"
        },
        "id": "aABvBd9QmKAP",
        "outputId": "d82c868c-0028-4c7c-ed97-fd15c8ae9dbe"
      },
      "execution_count": 50,
      "outputs": [
        {
          "output_type": "stream",
          "name": "stdout",
          "text": [
            "       \n",
            " q5_0: \n",
            "       \n",
            " q5_1: \n",
            "       \n",
            " q5_2: \n",
            "       \n",
            " q5_3: \n",
            "       \n",
            "c18: 4/\n",
            "       \n"
          ]
        }
      ]
    },
    {
      "cell_type": "code",
      "source": [
        "the_Aer_sim=AerSimulator()\n",
        "quantum_job=the_Aer_sim.run(quantum_circuit,shots=2048)\n",
        "apply_hadamard=quantum_circuit.h(quantum_register)\n",
        "measurethe_circuit=quantum_circuit.measure_all()\n",
        "job_result=quantum_job.result()\n",
        "job_counts=job_result.get_counts()\n",
        "print(quantum_circuit.draw())\n",
        "plot_histogram(job_counts)\n",
        "plt.show()\n",
        "\n",
        "random_bitstring=list(job_counts.keys())[0]\n",
        "print(\"8 bit qrng:\", random_bitstring)"
      ],
      "metadata": {
        "colab": {
          "base_uri": "https://localhost:8080/"
        },
        "id": "Nf0CY_J2msBx",
        "outputId": "578e6708-4b2a-4fde-a6a9-1d5f99cc3a58"
      },
      "execution_count": 56,
      "outputs": [
        {
          "output_type": "stream",
          "name": "stdout",
          "text": [
            "          ┌───┐ ░ ┌─┐┌───┐                ░ ┌─┐┌───┐                ░ ┌─┐┌───┐»\n",
            "    q5_0: ┤ H ├─░─┤M├┤ H ├────────────────░─┤M├┤ H ├────────────────░─┤M├┤ H ├»\n",
            "          ├───┤ ░ └╥┘└┬─┬┘┌───┐           ░ └╥┘└┬─┬┘┌───┐           ░ └╥┘└┬─┬┘»\n",
            "    q5_1: ┤ H ├─░──╫──┤M├─┤ H ├───────────░──╫──┤M├─┤ H ├───────────░──╫──┤M├─»\n",
            "          ├───┤ ░  ║  └╥┘ └┬─┬┘┌───┐      ░  ║  └╥┘ └┬─┬┘┌───┐      ░  ║  └╥┘ »\n",
            "    q5_2: ┤ H ├─░──╫───╫───┤M├─┤ H ├──────░──╫───╫───┤M├─┤ H ├──────░──╫───╫──»\n",
            "          ├───┤ ░  ║   ║   └╥┘ └┬─┬┘┌───┐ ░  ║   ║   └╥┘ └┬─┬┘┌───┐ ░  ║   ║  »\n",
            "    q5_3: ┤ H ├─░──╫───╫────╫───┤M├─┤ H ├─░──╫───╫────╫───┤M├─┤ H ├─░──╫───╫──»\n",
            "          └───┘ ░  ║   ║    ║   └╥┘ └───┘ ░  ║   ║    ║   └╥┘ └───┘ ░  ║   ║  »\n",
            "   c18: 4/═════════╬═══╬════╬════╬═══════════╬═══╬════╬════╬═══════════╬═══╬══»\n",
            "                   ║   ║    ║    ║           ║   ║    ║    ║           ║   ║  »\n",
            "  meas: 4/═════════╩═══╩════╩════╩═══════════╬═══╬════╬════╬═══════════╬═══╬══»\n",
            "                   0   1    2    3           ║   ║    ║    ║           ║   ║  »\n",
            "meas19: 4/═══════════════════════════════════╩═══╩════╩════╩═══════════╬═══╬══»\n",
            "                                             0   1    2    3           ║   ║  »\n",
            "meas20: 4/═════════════════════════════════════════════════════════════╩═══╩══»\n",
            "                                                                       0   1  »\n",
            "meas21: 4/════════════════════════════════════════════════════════════════════»\n",
            "                                                                              »\n",
            "meas22: 4/════════════════════════════════════════════════════════════════════»\n",
            "                                                                              »\n",
            "meas23: 4/════════════════════════════════════════════════════════════════════»\n",
            "                                                                              »\n",
            "«                          ░ ┌─┐┌───┐                ░ ┌─┐┌───┐               »\n",
            "«    q5_0: ────────────────░─┤M├┤ H ├────────────────░─┤M├┤ H ├───────────────»\n",
            "«          ┌───┐           ░ └╥┘└┬─┬┘┌───┐           ░ └╥┘└┬─┬┘┌───┐          »\n",
            "«    q5_1: ┤ H ├───────────░──╫──┤M├─┤ H ├───────────░──╫──┤M├─┤ H ├──────────»\n",
            "«          └┬─┬┘┌───┐      ░  ║  └╥┘ └┬─┬┘┌───┐      ░  ║  └╥┘ └┬─┬┘┌───┐     »\n",
            "«    q5_2: ─┤M├─┤ H ├──────░──╫───╫───┤M├─┤ H ├──────░──╫───╫───┤M├─┤ H ├─────»\n",
            "«           └╥┘ └┬─┬┘┌───┐ ░  ║   ║   └╥┘ └┬─┬┘┌───┐ ░  ║   ║   └╥┘ └┬─┬┘┌───┐»\n",
            "«    q5_3: ──╫───┤M├─┤ H ├─░──╫───╫────╫───┤M├─┤ H ├─░──╫───╫────╫───┤M├─┤ H ├»\n",
            "«            ║   └╥┘ └───┘ ░  ║   ║    ║   └╥┘ └───┘ ░  ║   ║    ║   └╥┘ └───┘»\n",
            "«   c18: 4/══╬════╬═══════════╬═══╬════╬════╬═══════════╬═══╬════╬════╬═══════»\n",
            "«            ║    ║           ║   ║    ║    ║           ║   ║    ║    ║       »\n",
            "«  meas: 4/══╬════╬═══════════╬═══╬════╬════╬═══════════╬═══╬════╬════╬═══════»\n",
            "«            ║    ║           ║   ║    ║    ║           ║   ║    ║    ║       »\n",
            "«meas19: 4/══╬════╬═══════════╬═══╬════╬════╬═══════════╬═══╬════╬════╬═══════»\n",
            "«            ║    ║           ║   ║    ║    ║           ║   ║    ║    ║       »\n",
            "«meas20: 4/══╩════╩═══════════╬═══╬════╬════╬═══════════╬═══╬════╬════╬═══════»\n",
            "«            2    3           ║   ║    ║    ║           ║   ║    ║    ║       »\n",
            "«meas21: 4/═══════════════════╩═══╩════╩════╩═══════════╬═══╬════╬════╬═══════»\n",
            "«                             0   1    2    3           ║   ║    ║    ║       »\n",
            "«meas22: 4/═════════════════════════════════════════════╩═══╩════╩════╩═══════»\n",
            "«                                                       0   1    2    3       »\n",
            "«meas23: 4/═══════════════════════════════════════════════════════════════════»\n",
            "«                                                                             »\n",
            "«           ░ ┌─┐         \n",
            "«    q5_0: ─░─┤M├─────────\n",
            "«           ░ └╥┘┌─┐      \n",
            "«    q5_1: ─░──╫─┤M├──────\n",
            "«           ░  ║ └╥┘┌─┐   \n",
            "«    q5_2: ─░──╫──╫─┤M├───\n",
            "«           ░  ║  ║ └╥┘┌─┐\n",
            "«    q5_3: ─░──╫──╫──╫─┤M├\n",
            "«           ░  ║  ║  ║ └╥┘\n",
            "«   c18: 4/════╬══╬══╬══╬═\n",
            "«              ║  ║  ║  ║ \n",
            "«  meas: 4/════╬══╬══╬══╬═\n",
            "«              ║  ║  ║  ║ \n",
            "«meas19: 4/════╬══╬══╬══╬═\n",
            "«              ║  ║  ║  ║ \n",
            "«meas20: 4/════╬══╬══╬══╬═\n",
            "«              ║  ║  ║  ║ \n",
            "«meas21: 4/════╬══╬══╬══╬═\n",
            "«              ║  ║  ║  ║ \n",
            "«meas22: 4/════╬══╬══╬══╬═\n",
            "«              ║  ║  ║  ║ \n",
            "«meas23: 4/════╩══╩══╩══╩═\n",
            "«              0  1  2  3 \n",
            "8 bit qrng: 0110 1111 0000 1111 0000 0001 0000\n"
          ]
        }
      ]
    }
  ]
}